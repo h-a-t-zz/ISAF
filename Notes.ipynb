{
 "cells": [
  {
   "cell_type": "markdown",
   "metadata": {},
   "source": [
    "# Play with Docker link\n",
    "http://labs.play-with-docker.com/?stack=https://gist.githubusercontent.com/h-a-t/eafbb19d7ce46c4ee4a541df018a5f37/raw/0979d10646b91e73cfdf02e7a0b43f84e8e7e68a/docker-compose.yml&stack_name=func\n",
    "\n",
    "# sonar-scanner\n",
    "```\n",
    " sonar-scanner -Dsonar.analysis.mode=preview -Dsonar.github.pullRequest=$PULL_REQUEST_ID\n",
    " -Dsonar.github.repository=myOrganisation/myProject \n",
    " -Dsonar.github.oauth=$GITHUB_ACCESS_TOKEN \n",
    " -Dsonar.host.url=http://sonarqube \n",
    " -Dsonar.login=$SONARQUBE_ACCESS_TOKEN\n",
    "\n",
    "-Dsonar.host.url=http://sonarqube:9000 -Dsonar.projectKey=Redpill:latest -Dsonar.sources=$PWD/src/php -Dsonar.language=php\n",
    "-r https://github.com/h-a-t/RedPill -u http://sonarqube:9000 -n RedPill -p \"Redpill:php\" -s \"src/php\"\n",
    "\n",
    "```\n",
    "# faas\n",
    "```\n",
    " curl -sSL https://cli.openfaas.com | sh\n",
    "\n",
    "\n",
    "\n",
    "```"
   ]
  },
  {
   "cell_type": "code",
   "execution_count": null,
   "metadata": {},
   "outputs": [],
   "source": [
    "# Docker-py put_archive : https://gist.github.com/zbyte64/6800eae10ce082bb78f0b7a2cca5cbc2\n",
    "\n",
    "import tarfile\n",
    "import time\n",
    "from io import BytesIO\n",
    "\n",
    "admin_password = 'xxxxx'\n",
    "\n",
    "#write password to file\n",
    "pw_tarstream = BytesIO()\n",
    "pw_tar = tarfile.TarFile(fileobj=pw_tarstream, mode='w')\n",
    "file_data = admin_password.encode('utf8')\n",
    "tarinfo = tarfile.TarInfo(name='pw.txt')\n",
    "tarinfo.size = len(file_data)\n",
    "tarinfo.mtime = time.time()\n",
    "#tarinfo.mode = 0600\n",
    "pw_tar.addfile(tarinfo, BytesIO(file_data))\n",
    "pw_tar.close()\n",
    "\n",
    "\n",
    "container = docker_client.create_container(\n",
    "    **container_options\n",
    ")\n",
    "\n",
    "pw_tarstream.seek(0)\n",
    "pr = docker_client.put_archive(\n",
    "    container=container['Id'],\n",
    "    path='/tmp',\n",
    "    data=pw_tarstream\n",
    ")\n"
   ]
  },
  {
   "cell_type": "code",
   "execution_count": null,
   "metadata": {},
   "outputs": [],
   "source": [
    "#os.chdir() #change dirc\n",
    "os.getcwd()"
   ]
  },
  {
   "cell_type": "code",
   "execution_count": null,
   "metadata": {},
   "outputs": [],
   "source": []
  }
 ],
 "metadata": {
  "kernelspec": {
   "display_name": "Python 3",
   "language": "python",
   "name": "python3"
  },
  "language_info": {
   "codemirror_mode": {
    "name": "ipython",
    "version": 3
   },
   "file_extension": ".py",
   "mimetype": "text/x-python",
   "name": "python",
   "nbconvert_exporter": "python",
   "pygments_lexer": "ipython3",
   "version": "3.6.2"
  }
 },
 "nbformat": 4,
 "nbformat_minor": 2
}

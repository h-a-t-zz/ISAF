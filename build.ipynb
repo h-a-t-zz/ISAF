{
 "cells": [
  {
   "cell_type": "markdown",
   "metadata": {
    "slideshow": {
     "slide_type": "slide"
    }
   },
   "source": [
    "# ISAF (إسعاف)  \n",
    "## Integrate Security Assessments in your dev Flow\n",
    "```\n",
    "    EeeiiiiiEEiiiii.....                                             \n",
    "       \\|/                                                           \n",
    "        n______     .....iiiiiEEiiiieeEE                             \n",
    "       :~;     :                  \\|/                                \n",
    "-----;``~'  +  ;------------ ______n --------------------------------\n",
    "     `-@-----@-=            :     :~:                                \n",
    "=========================== ;  +  '~``; =============================\n",
    "                            =-@-----@-'                              \n",
    "jgs------------------------------------------------------------------\n",
    "                                                                     \n",
    "                   DEVSECOPS IN A PYTHON NUTSHELL        \n",
    "```"
   ]
  },
  {
   "cell_type": "markdown",
   "metadata": {},
   "source": [
    "## Environment Build"
   ]
  },
  {
   "cell_type": "markdown",
   "metadata": {
    "slideshow": {
     "slide_type": "subslide"
    }
   },
   "source": [
    "### Testing Application\n",
    "Screenshots de l'application + Explications"
   ]
  },
  {
   "cell_type": "markdown",
   "metadata": {},
   "source": [
    "### Deploy Application"
   ]
  },
  {
   "cell_type": "code",
   "execution_count": null,
   "metadata": {},
   "outputs": [],
   "source": [
    "!git clone https://github.com/h-a-t/RedPill"
   ]
  },
  {
   "cell_type": "code",
   "execution_count": null,
   "metadata": {},
   "outputs": [],
   "source": [
    "!pip install docker"
   ]
  },
  {
   "cell_type": "code",
   "execution_count": 4,
   "metadata": {},
   "outputs": [],
   "source": [
    "import docker\n",
    "import io\n",
    "import tarfile\n",
    "import os\n",
    "\n",
    "cli = docker.from_env()\n",
    "cli.containers.list()"
   ]
  },
  {
   "cell_type": "code",
   "execution_count": null,
   "metadata": {},
   "outputs": [],
   "source": [
    "## Build app image and pull dependencies\n",
    "os.chdir('/home/jovyan/RedPill/')\n",
    "cli.images.build(path='./src/php', tag='hat/app')\n",
    "#zap_img = cli.images.pull('owasp/zap2docker-weekly:latest')\n",
    "db_img = cli.images.pull('mariadb:latest')\n",
    "alpine = cli.images.pull('alpine:latest')\n"
   ]
  },
  {
   "cell_type": "code",
   "execution_count": null,
   "metadata": {},
   "outputs": [],
   "source": [
    "## Create a dedicated network\n",
    "cli.networks.create(\"app_net\", driver=\"bridge\") ## cant join overlay network. maybe bridging to isolate?\n",
    "cli.networks.list()"
   ]
  },
  {
   "cell_type": "code",
   "execution_count": null,
   "metadata": {},
   "outputs": [],
   "source": [
    "## Create Volumes\n",
    "cli.volumes.create(name='db_data', driver='local')\n",
    "cli.volumes.create(name='db_init', driver='local')\n",
    "cli.volumes.create(name='app_data', driver='local')"
   ]
  },
  {
   "cell_type": "code",
   "execution_count": null,
   "metadata": {},
   "outputs": [],
   "source": [
    "## Database provisionning\n",
    "os.chdir('/home/jovyan/RedPill/src/sql')\n",
    "tarstream = io.BytesIO()\n",
    "tar = tarfile.TarFile(fileobj=tarstream, mode='w')\n",
    "tar.add('staging.sql')\n",
    "tar.close()\n",
    "\n",
    "## https://gist.github.com/zbyte64/6800eae10ce082bb78f0b7a2cca5cbc2\n",
    "tmp=cli.containers.create(\n",
    "    image='alpine', \n",
    "    volumes={'db_init':{'bind': '/data/', 'mode' : 'rw'}})\n",
    "\n",
    "tarstream.seek(0)\n",
    "tmp.put_archive(\n",
    "    path='/data/',\n",
    "    data=tarstream\n",
    ")\n",
    "\n",
    "## Database run\n",
    "db_cont = cli.containers.run(\n",
    "    image='mariadb:latest',\n",
    "    volumes={'db_init':{'bind': '/docker-entrypoint-initdb.d/', 'mode' : 'rw'},\n",
    "             'db_data':{'bind': '/var/lib/mysql/', 'mode' : 'rw'}\n",
    "            },\n",
    "    detach=True,\n",
    "    name='app_db',\n",
    "    environment=['MYSQL_RANDOM_ROOT_PASSWORD=yes','MYSQL_USER=user',\n",
    "                  'MYSQL_PASSWORD=password','MYSQL_DATABASE=sqli']\n",
    "        )\n",
    "db_cont?"
   ]
  },
  {
   "cell_type": "code",
   "execution_count": null,
   "metadata": {},
   "outputs": [],
   "source": [
    "## Webserver provisionning\n",
    "\n",
    "os.chdir('/home/jovyan/RedPill/src/php')\n",
    "tarstream = io.BytesIO()\n",
    "tar = tarfile.TarFile(fileobj=tarstream, mode='w')\n",
    "tar.add('.')\n",
    "tar.close()\n",
    "\n",
    "tmp=cli.containers.create(\n",
    "    image='alpine', \n",
    "    volumes={'app_data':{'bind': '/data/', 'mode' : 'rw'}})\n",
    "\n",
    "tarstream.seek(0)\n",
    "tmp.put_archive(\n",
    "    path='/data/',\n",
    "    data=tarstream\n",
    ")\n",
    "\n",
    "## webserver run\n",
    "app_cont = cli.containers.run(\n",
    "    image='hat/app',\n",
    "    volumes={'app_data':{'bind': '/var/www/html', 'mode' : 'rw'}\n",
    "            },\n",
    "    detach=True,\n",
    "    name='app_web',\n",
    "    environment=['DB_ENV_MYSQL_USER=user','DB_ENV_MYSQL_PASSWORD=password','BUILD_STAGE=Python'],\n",
    "    ports={'80/tcp':80},\n",
    "    links=[('app_db','db')]\n",
    "        )\n",
    "app_cont?"
   ]
  },
  {
   "cell_type": "markdown",
   "metadata": {
    "slideshow": {
     "slide_type": "slide"
    }
   },
   "source": [
    "# Security Assessment in a Synchronous Execution Flow"
   ]
  },
  {
   "cell_type": "markdown",
   "metadata": {},
   "source": [
    "## Static Code Analysis\n"
   ]
  },
  {
   "cell_type": "markdown",
   "metadata": {},
   "source": [
    "### Push code to SonarQube for code analysis"
   ]
  },
  {
   "cell_type": "code",
   "execution_count": null,
   "metadata": {},
   "outputs": [],
   "source": [
    "## Download Sonarqube scanner\n",
    "!wget https://sonarsource.bintray.com/Distribution/sonar-scanner-cli/sonar-scanner-cli-3.0.3.778-linux.zip\n",
    "!unzip sonar-scanner-cli-3.0.3.778-linux.zip"
   ]
  },
  {
   "cell_type": "code",
   "execution_count": null,
   "metadata": {},
   "outputs": [],
   "source": [
    "!./sonar-scanner-3.0.3.778-linux/bin/sonar-scanner -Dsonar.host.url=http://sonarqube:9000 -Dsonar.projectKey=Redpill:latest -Dsonar.sources=RedPill/src/php -Dsonar.language=php"
   ]
  },
  {
   "cell_type": "markdown",
   "metadata": {},
   "source": [
    "### Push to Clair for a container layer scan"
   ]
  },
  {
   "cell_type": "markdown",
   "metadata": {
    "slideshow": {
     "slide_type": "subslide"
    }
   },
   "source": [
    "TODO : reg de Jess + Pop instance Clair"
   ]
  },
  {
   "cell_type": "markdown",
   "metadata": {},
   "source": [
    "## Dynamic Runtime Analysis"
   ]
  },
  {
   "cell_type": "markdown",
   "metadata": {},
   "source": [
    "### Using the Web-GUI of your favorite Pentesting tool from OWASP: ZAP\n",
    "- Let L33t do the testing by running a GUI instance of ZAP, just browse localhost:8666/?anonym=true&app=ZAP to start :) \n",
    "- Warning, image size: 1,52 Go  \n",
    "- Cf. https://github.com/zaproxy/zaproxy/wiki/WebSwing  "
   ]
  },
  {
   "cell_type": "code",
   "execution_count": null,
   "metadata": {},
   "outputs": [],
   "source": [
    "zap_img = cli.images.pull('owasp/zap2docker-stable:latest')\n",
    "scan_cont = cli.containers.run(\n",
    "    image=zap_img,\n",
    "    name='app_scan',\n",
    "    detach=True,\n",
    "    command=\"sh -c 'zap-webswing.sh'\",\n",
    "    ports={'8080/tcp':8666, '8090/tcp':8777},\n",
    "    links=[('app_web','app')]\n",
    "        )\n",
    "scan_cont?"
   ]
  },
  {
   "cell_type": "markdown",
   "metadata": {},
   "source": [
    "### Using the flexibility of your favorite cutting-edge technology: OpenFaas"
   ]
  },
  {
   "cell_type": "markdown",
   "metadata": {},
   "source": [
    "Dockerfile:  \n",
    "\n",
    "```\n",
    "FROM alexellis2/faas-alpinefunction:latest\n",
    "RUN apk update && apk add nmap\n",
    "ENV fprocess=\"xargs nmap\"\n",
    "CMD [\"fwatchdog\"]\n",
    "```\n",
    "\n",
    "nmap_stack:   \n",
    "\n",
    "```yaml\n",
    "provider:\n",
    "  name: faas\n",
    "  gateway: http://gateway:8080\n",
    "\n",
    "functions:\n",
    "  nmap:\n",
    "    lang: Dockerfile\n",
    "    handler: ./Dockerfile\n",
    "    image: hat/nmap\n",
    "```"
   ]
  },
  {
   "cell_type": "code",
   "execution_count": null,
   "metadata": {},
   "outputs": [],
   "source": [
    "import tarfile\n",
    "import time\n",
    "from io import BytesIO\n",
    "os.chdir('/home/jovyan/work')\n",
    "Dockerfile ='''\n",
    "FROM alexellis2/faas-alpinefunction:latest\n",
    "RUN apk update && apk add nmap\n",
    "ENV fprocess=\"xargs nmap\"\n",
    "CMD [\"fwatchdog\"]\n",
    "'''\n",
    "with open(\"Dockerfile\", \"w\") as stack:\n",
    "    stack.write(\"%s\" % Dockerfile)\n",
    "\n",
    "#write the Dockerfile to a tarred archive\n",
    "pw_tarstream = BytesIO()\n",
    "pw_tar = tarfile.TarFile(fileobj=pw_tarstream, mode='w')\n",
    "file_data = Dockerfile.encode('utf8')\n",
    "tarinfo = tarfile.TarInfo(name='Dockerfile')\n",
    "tarinfo.size = len(file_data)\n",
    "tarinfo.mtime = time.time()\n",
    "#tarinfo.mode = 0600\n",
    "pw_tar.addfile(tarinfo, BytesIO(file_data))\n",
    "pw_tar.close()\n",
    "\n",
    "pw_tarstream.seek(0)\n",
    "nmap = cli.images.build(\n",
    "    fileobj=pw_tarstream,\n",
    "    custom_context=True,\n",
    "    tag='hat/nmap'\n",
    ")\n",
    "nmap?"
   ]
  },
  {
   "cell_type": "code",
   "execution_count": null,
   "metadata": {},
   "outputs": [],
   "source": [
    "## nmap Stack\n",
    "os.chdir('/home/jovyan/work')\n",
    "func_stack='''\n",
    "provider:\n",
    "  name: faas\n",
    "  gateway: http://gateway:8080\n",
    "\n",
    "functions:\n",
    "  nmap:\n",
    "    lang: Dockerfile\n",
    "    handler: ./Dockerfile\n",
    "    image: hat/nmap\n",
    "'''\n",
    "with open(\"nmap_func.yml\", \"w\") as stack:\n",
    "    stack.write(\"%s\" % func_stack)"
   ]
  },
  {
   "cell_type": "code",
   "execution_count": null,
   "metadata": {},
   "outputs": [],
   "source": [
    "!faas-cli build -f nmap_func.yml"
   ]
  },
  {
   "cell_type": "code",
   "execution_count": null,
   "metadata": {},
   "outputs": [],
   "source": [
    "!faas-cli deploy -f nmap_func.yml"
   ]
  },
  {
   "cell_type": "code",
   "execution_count": null,
   "metadata": {},
   "outputs": [],
   "source": [
    "## Testing\n",
    "!curl -v http://gateway:8080/system/functions"
   ]
  },
  {
   "cell_type": "code",
   "execution_count": null,
   "metadata": {},
   "outputs": [],
   "source": [
    "## Executing nmap \\o/\n",
    "!curl -v --data \"-T4 172.17.0.3\" http://gateway:8080/function/nmap"
   ]
  },
  {
   "cell_type": "code",
   "execution_count": null,
   "metadata": {},
   "outputs": [],
   "source": []
  },
  {
   "cell_type": "code",
   "execution_count": null,
   "metadata": {},
   "outputs": [],
   "source": []
  }
 ],
 "metadata": {
  "kernelspec": {
   "display_name": "Python 3",
   "language": "python",
   "name": "python3"
  },
  "language_info": {
   "codemirror_mode": {
    "name": "ipython",
    "version": 3
   },
   "file_extension": ".py",
   "mimetype": "text/x-python",
   "name": "python",
   "nbconvert_exporter": "python",
   "pygments_lexer": "ipython3",
   "version": "3.6.2"
  }
 },
 "nbformat": 4,
 "nbformat_minor": 2
}

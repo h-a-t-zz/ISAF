{
 "cells": [
  {
   "cell_type": "markdown",
   "metadata": {
    "slideshow": {
     "slide_type": "slide"
    }
   },
   "source": [
    "# ISAF (إسعاف)  \n",
    "## Integrate Security Assessments in your dev Flow\n",
    "```\n",
    "    EeeiiiiiEEiiiii.....                                             \n",
    "       \\|/                                                           \n",
    "        n______     .....iiiiiEEiiiieeEE                             \n",
    "       :~;     :                  \\|/                                \n",
    "-----;``~'  +  ;------------ ______n --------------------------------\n",
    "     `-@-----@-=            :     :~:                                \n",
    "=========================== ;  +  '~``; =============================\n",
    "                            =-@-----@-'                              \n",
    "jgs------------------------------------------------------------------\n",
    "                                                                     \n",
    "                   DEVSECOPS IN A PYTHON NUTSHELL        \n",
    "```"
   ]
  },
  {
   "cell_type": "markdown",
   "metadata": {},
   "source": [
    "# Init\n",
    "## Stack Deployement\n",
    "You can quickly start OpenFaaS on Docker Swarm online using the community-run Docker playground: play-with-docker.com (PWD) by clicking the button below:  \n",
    "\n",
    "[![Try in PWD](https://cdn.rawgit.com/play-with-docker/stacks/cff22438/assets/images/button.png)](http://labs.play-with-docker.com/?stack=https://gist.githubusercontent.com/h-a-t/eafbb19d7ce46c4ee4a541df018a5f37/raw/0979d10646b91e73cfdf02e7a0b43f84e8e7e68a/docker-compose.yml&stack_name=func)"
   ]
  },
  {
   "cell_type": "markdown",
   "metadata": {},
   "source": [
    "Or use the following docker-compose.yml file."
   ]
  },
  {
   "cell_type": "markdown",
   "metadata": {},
   "source": [
    "```yaml\n",
    "version: \"3.2\"\n",
    "services:\n",
    "    gateway:\n",
    "        volumes:\n",
    "            - \"/var/run/docker.sock:/var/run/docker.sock\"\n",
    "        ports:\n",
    "            - 8080:8080\n",
    "        image: functions/gateway:0.6.6-beta\n",
    "        networks:\n",
    "            - functions\n",
    "        environment:\n",
    "            dnsrr: \"true\"  # Temporarily use dnsrr in place of VIP while issue persists on PWD\n",
    "        deploy:\n",
    "            placement:\n",
    "                constraints:\n",
    "                    - 'node.role == manager'\n",
    "                    - 'node.platform.os == linux'\n",
    "    prometheus:\n",
    "        image: functions/prometheus:latest  # autobuild from Dockerfile in repo.\n",
    "        command: \"-config.file=/etc/prometheus/prometheus.yml -storage.local.path=/prometheus -storage.local.memory-chunks=10000 --alertmanager.url=http://alertmanager:9093\"\n",
    "        ports:\n",
    "            - 9090:9090\n",
    "        depends_on:\n",
    "            - gateway\n",
    "            - alertmanager\n",
    "        environment:\n",
    "            no_proxy: \"gateway\"\n",
    "        networks:\n",
    "            - functions\n",
    "        deploy:\n",
    "            placement:\n",
    "                constraints:\n",
    "                    - 'node.role == manager'\n",
    "                    - 'node.platform.os == linux'\n",
    "\n",
    "    alertmanager:\n",
    "        image: functions/alertmanager:latest    # autobuild from Dockerfile in repo.\n",
    "        environment:\n",
    "            no_proxy: \"gateway\"\n",
    "#        volumes:\n",
    "#            - ./prometheus/alertmanager.yml:/alertmanager.yml\n",
    "        command:\n",
    "            - '-config.file=/alertmanager.yml'\n",
    "        networks:\n",
    "            - functions\n",
    "        ports:\n",
    "            - 9093:9093\n",
    "        deploy:\n",
    "            placement:\n",
    "                constraints:\n",
    "                    - 'node.role == manager'\n",
    "                    - 'node.platform.os == linux'\n",
    "\n",
    "\n",
    "    registry:\n",
    "        image: registry:2    # Image Registry\n",
    "        environment:\n",
    "            no_proxy: \"gateway\"\n",
    "        networks:\n",
    "            - functions\n",
    "        ports:\n",
    "            - 5000:5000\n",
    "        deploy:\n",
    "            placement:\n",
    "                constraints:\n",
    "                    - 'node.role == manager'\n",
    "                    - 'node.platform.os == linux'\n",
    "\n",
    "    jupyter:\n",
    "        image: jupyter/base-notebook:latest    # Jupyter\n",
    "        environment:\n",
    "            no_proxy: \"gateway\"\n",
    "        volumes:\n",
    "            - \"/var/run/docker.sock:/var/run/docker.sock\"\n",
    "        command: [\"start.sh\", \"jupyter\", \"lab\"]\n",
    "        networks:\n",
    "            - functions\n",
    "        ports:\n",
    "            - 8888:8888\n",
    "        deploy:\n",
    "            placement:\n",
    "                constraints:\n",
    "                    - 'node.role == manager'\n",
    "                    - 'node.platform.os == linux'\n",
    "\n",
    "\n",
    "    sonarqube:\n",
    "        image: sonarqube:latest    # Sonarqube Code Analysis\n",
    "        environment:\n",
    "            no_proxy: \"gateway\"\n",
    "#        volumes:\n",
    "#            - \"/var/run/docker.sock:/var/run/docker.sock\"\n",
    "        networks:\n",
    "            - functions\n",
    "        ports:\n",
    "            - 9000:9000\n",
    "        deploy:\n",
    "            placement:\n",
    "                constraints:\n",
    "                    - 'node.role == manager'\n",
    "                    - 'node.platform.os == linux'\n",
    "\n",
    "\n",
    "\n",
    "    # Sample functions go here.\n",
    "\n",
    "    # Service label of \"function\" allows functions to show up in UI on http://gateway:8080/\n",
    "    webhookstash:\n",
    "        image: functions/webhookstash:latest\n",
    "        labels:\n",
    "            function: \"true\"\n",
    "        depends_on:\n",
    "            - gateway\n",
    "        networks:\n",
    "            - functions\n",
    "        environment:\n",
    "            no_proxy: \"gateway\"\n",
    "            https_proxy: $https_proxy\n",
    "        deploy:\n",
    "            placement:\n",
    "                constraints:\n",
    "                    - 'node.platform.os == linux'\n",
    "\n",
    "networks:\n",
    "    functions:\n",
    "        driver: overlay\n",
    "        # Docker does not support this option yet - maybe create outside of the stack and reference as \"external\"?\n",
    "        #attachable: true\n",
    "```"
   ]
  },
  {
   "cell_type": "markdown",
   "metadata": {},
   "source": [
    "## Prerequisite\n",
    "- Get your Jupyter token:\n",
    "\n",
    "```bash\n",
    "docker logs func_jupyter.1.shw9s15u6co3cuzp5sjft697t 2>&1 | grep token \n",
    "10:03:07.492 LabApp] The Jupyter Notebook is running at: \n",
    "\n",
    "http://[all ip addresses on your system]:8888/?token=54523693a4c91624e2efebd5e9dde139b784297e30089504 \n",
    "\n",
    "to login with a token: http://localhost:8888/?token=54523693a4c91624e2efebd5e9dde139b784297e30089504\n",
    "```\n",
    "\n",
    "- Install git, unzip, curl and faas-cli in the Jupyter container:\n",
    "\n",
    "```bash\n",
    "docker exec --user root -ti func_jupyter.1.shw9s15u6co3cuzp5sjft697t bash\n",
    "root@b9300915e6ad:~# apt-get update && apt-get -y install unzip git curl\n",
    "root@b9300915e6ad:~# \n",
    "```\n",
    "\n",
    "- Download faas-cli and change permissions of docker.sock for the sack of this PoC. VERY Bad habits /o\\, Do not try at home production.\n",
    "\n",
    "```bash\n",
    "curl -sSL https://cli.openfaas.com | sh\n",
    "chmod 777 /var/run/docker.sock\n",
    "```\n",
    "- Upload ISAF.iynb to your Jupyter instance, and press play! \\o/"
   ]
  },
  {
   "cell_type": "markdown",
   "metadata": {},
   "source": [
    "## Environment Build"
   ]
  },
  {
   "cell_type": "markdown",
   "metadata": {
    "slideshow": {
     "slide_type": "subslide"
    }
   },
   "source": [
    "### Testing Application\n",
    "Screenshots de l'application + Explications"
   ]
  },
  {
   "cell_type": "markdown",
   "metadata": {},
   "source": [
    "### Deploy Application"
   ]
  },
  {
   "cell_type": "code",
   "execution_count": null,
   "metadata": {},
   "outputs": [],
   "source": [
    "!git clone https://github.com/h-a-t/RedPill"
   ]
  },
  {
   "cell_type": "code",
   "execution_count": null,
   "metadata": {},
   "outputs": [],
   "source": [
    "!pip install docker"
   ]
  },
  {
   "cell_type": "code",
   "execution_count": 4,
   "metadata": {},
   "outputs": [],
   "source": [
    "import docker\n",
    "import io\n",
    "import tarfile\n",
    "import os\n",
    "\n",
    "cli = docker.DockerClient(base_url='unix://var/run/docker.sock')\n",
    "cli.containers.list()"
   ]
  },
  {
   "cell_type": "code",
   "execution_count": null,
   "metadata": {},
   "outputs": [],
   "source": [
    "## Build app image and pull dependencies\n",
    "os.chdir('/home/jovyan/RedPill/')\n",
    "cli.images.build(path='./src/php', tag='hat/app')\n",
    "#zap_img = cli.images.pull('owasp/zap2docker-weekly:latest')\n",
    "db_img = cli.images.pull('mariadb:latest')\n",
    "alpine = cli.images.pull('alpine:latest')\n"
   ]
  },
  {
   "cell_type": "code",
   "execution_count": null,
   "metadata": {},
   "outputs": [],
   "source": [
    "## Create a dedicated network\n",
    "cli.networks.create(\"app_net\", driver=\"bridge\") ## cant join overlay network. maybe bridging to isolate?\n",
    "cli.networks.list()"
   ]
  },
  {
   "cell_type": "code",
   "execution_count": null,
   "metadata": {},
   "outputs": [],
   "source": [
    "## Create Volumes\n",
    "cli.volumes.create(name='db_data', driver='local')\n",
    "cli.volumes.create(name='db_init', driver='local')\n",
    "cli.volumes.create(name='app_data', driver='local')"
   ]
  },
  {
   "cell_type": "code",
   "execution_count": null,
   "metadata": {},
   "outputs": [],
   "source": [
    "## Database provisionning\n",
    "os.chdir('/home/jovyan/RedPill/src/sql')\n",
    "tarstream = io.BytesIO()\n",
    "tar = tarfile.TarFile(fileobj=tarstream, mode='w')\n",
    "tar.add('staging.sql')\n",
    "tar.close()\n",
    "\n",
    "tmp=cli.containers.create(\n",
    "    image='alpine', \n",
    "    volumes={'db_init':{'bind': '/data/', 'mode' : 'rw'}})\n",
    "\n",
    "tarstream.seek(0)\n",
    "tmp.put_archive(\n",
    "    path='/data/',\n",
    "    data=tarstream\n",
    ")\n",
    "\n",
    "## Database run\n",
    "db_cont = cli.containers.run(\n",
    "    image='mariadb:latest',\n",
    "    volumes={'db_init':{'bind': '/docker-entrypoint-initdb.d/', 'mode' : 'rw'},\n",
    "             'db_data':{'bind': '/var/lib/mysql/', 'mode' : 'rw'}\n",
    "            },\n",
    "    detach=True,\n",
    "    name='app_db',\n",
    "    environment=['MYSQL_RANDOM_ROOT_PASSWORD=yes','MYSQL_USER=user',\n",
    "                  'MYSQL_PASSWORD=password','MYSQL_DATABASE=sqli']\n",
    "        )\n",
    "db_cont?"
   ]
  },
  {
   "cell_type": "code",
   "execution_count": null,
   "metadata": {},
   "outputs": [],
   "source": [
    "## Webserver provisionning\n",
    "\n",
    "os.chdir('/home/jovyan/RedPill/src/php')\n",
    "tarstream = io.BytesIO()\n",
    "tar = tarfile.TarFile(fileobj=tarstream, mode='w')\n",
    "tar.add('.')\n",
    "tar.close()\n",
    "\n",
    "tmp=cli.containers.create(\n",
    "    image='alpine', \n",
    "    volumes={'app_data':{'bind': '/data/', 'mode' : 'rw'}})\n",
    "\n",
    "tarstream.seek(0)\n",
    "tmp.put_archive(\n",
    "    path='/data/',\n",
    "    data=tarstream\n",
    ")\n",
    "\n",
    "## webserver run\n",
    "app_cont = cli.containers.run(\n",
    "    image='hat/app',\n",
    "    volumes={'app_data':{'bind': '/var/www/html', 'mode' : 'rw'}\n",
    "            },\n",
    "    detach=True,\n",
    "    name='app_web',\n",
    "    environment=['DB_ENV_MYSQL_USER=user','DB_ENV_MYSQL_PASSWORD=password','BUILD_STAGE=Python'],\n",
    "    ports={'80/tcp':80},\n",
    "    links=[('app_db','db')]\n",
    "        )\n",
    "app_cont?"
   ]
  },
  {
   "cell_type": "markdown",
   "metadata": {
    "slideshow": {
     "slide_type": "slide"
    }
   },
   "source": [
    "# Security Assessment in a Synchronous Execution Flow"
   ]
  },
  {
   "cell_type": "markdown",
   "metadata": {},
   "source": [
    "## Static Code Analysis\n"
   ]
  },
  {
   "cell_type": "markdown",
   "metadata": {},
   "source": [
    "### Push code to SonarQube for code analysis"
   ]
  },
  {
   "cell_type": "code",
   "execution_count": null,
   "metadata": {},
   "outputs": [],
   "source": [
    "## Download Sonarqube scanner\n",
    "!wget https://sonarsource.bintray.com/Distribution/sonar-scanner-cli/sonar-scanner-cli-3.0.3.778-linux.zip\n",
    "!unzip sonar-scanner-cli-3.0.3.778-linux.zip"
   ]
  },
  {
   "cell_type": "code",
   "execution_count": null,
   "metadata": {},
   "outputs": [],
   "source": [
    "!./sonar-scanner-3.0.3.778-linux/bin/sonar-scanner -Dsonar.host.url=http://sonarqube:9000 -Dsonar.projectKey=Redpill:latest -Dsonar.sources=RedPill/src/php -Dsonar.language=php"
   ]
  },
  {
   "cell_type": "markdown",
   "metadata": {},
   "source": [
    "### Push to Clair for a container layer scan"
   ]
  },
  {
   "cell_type": "markdown",
   "metadata": {
    "slideshow": {
     "slide_type": "subslide"
    }
   },
   "source": [
    "TODO : reg de Jess + Pop instance Clair"
   ]
  },
  {
   "cell_type": "markdown",
   "metadata": {},
   "source": [
    "## Dynamic Runtime Analysis"
   ]
  },
  {
   "cell_type": "markdown",
   "metadata": {},
   "source": [
    "### Using the Web-GUI of your favorite Pentesting tool from OWASP: ZAP\n",
    "- Let L33t do the testing by running a GUI instance of ZAP, just browse localhost:8666/?anonym=true&app=ZAP to start :) \n",
    "- Warning, image size: 1,52 Go  \n",
    "- Cf. https://github.com/zaproxy/zaproxy/wiki/WebSwing  "
   ]
  },
  {
   "cell_type": "code",
   "execution_count": null,
   "metadata": {},
   "outputs": [],
   "source": [
    "zap_img = cli.images.pull('owasp/zap2docker-stable:latest')\n",
    "scan_cont = cli.containers.run(\n",
    "    image=zap_img,\n",
    "    name='app_scan',\n",
    "    detach=True,\n",
    "    command=\"sh -c 'zap-webswing.sh'\",\n",
    "    ports={'8080/tcp':8666, '8090/tcp':8777},\n",
    "    links=[('app_web','app')]\n",
    "        )\n",
    "scan_cont?"
   ]
  },
  {
   "cell_type": "markdown",
   "metadata": {},
   "source": [
    "### Using the flexibility of your favorite cutting-edge technology: OpenFaas"
   ]
  },
  {
   "cell_type": "markdown",
   "metadata": {},
   "source": [
    "Dockerfile:  \n",
    "\n",
    "```\n",
    "FROM alexellis2/faas-alpinefunction:latest\n",
    "RUN apk update && apk add nmap\n",
    "ENV fprocess=\"xargs nmap\"\n",
    "CMD [\"fwatchdog\"]\n",
    "```\n",
    "\n",
    "nmap_stack:   \n",
    "\n",
    "```yaml\n",
    "provider:\n",
    "  name: faas\n",
    "  gateway: http://localhost:8080\n",
    "\n",
    "functions:\n",
    "  nmap:\n",
    "    lang: Dockerfile\n",
    "    handler: ./Dockerfile\n",
    "    image: hat/nmap\n",
    "```"
   ]
  },
  {
   "cell_type": "markdown",
   "metadata": {},
   "source": [
    "# Async\n",
    "\n",
    "### Example avec faas pour nmap\n",
    "### Example avec aiodocker pour zap baseline"
   ]
  },
  {
   "cell_type": "code",
   "execution_count": null,
   "metadata": {},
   "outputs": [],
   "source": []
  }
 ],
 "metadata": {
  "kernelspec": {
   "display_name": "Python 3",
   "language": "python",
   "name": "python3"
  },
  "language_info": {
   "codemirror_mode": {
    "name": "ipython",
    "version": 3
   },
   "file_extension": ".py",
   "mimetype": "text/x-python",
   "name": "python",
   "nbconvert_exporter": "python",
   "pygments_lexer": "ipython3",
   "version": "3.6.2"
  }
 },
 "nbformat": 4,
 "nbformat_minor": 2
}

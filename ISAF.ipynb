{
 "cells": [
  {
   "cell_type": "markdown",
   "metadata": {},
   "source": [
    "# ISAF (إسعاف)  \n",
    "## Integrated Security Assessment Framework\n",
    "```\n",
    "    EeeiiiiiEEiiiii.....                                             \n",
    "       \\|/                                                           \n",
    "        n______     .....iiiiiEEiiiieeEE                             \n",
    "       :~;     :                  \\|/                                \n",
    "-----;``~'  +  ;------------ ______n --------------------------------\n",
    "     `-@-----@-=            :     :~:                                \n",
    "=========================== ;  +  '~``; =============================\n",
    "                            =-@-----@-'                              \n",
    "jgs------------------------------------------------------------------\n",
    "                                                                     \n",
    "                   DEVSECOPS IN A NUTSHELL        \n",
    "```\n",
    "\n",
    "#### _Ne pas oublier d'installer git et unzip dans le container jupyter + chmod pour docker.sock_"
   ]
  },
  {
   "cell_type": "markdown",
   "metadata": {},
   "source": [
    "# Static Analysis\n",
    "## Git clone du repos + envoi à Sonarqube"
   ]
  },
  {
   "cell_type": "code",
   "execution_count": null,
   "metadata": {},
   "outputs": [],
   "source": [
    "!git clone https://github.com/h-a-t/RedPill"
   ]
  },
  {
   "cell_type": "code",
   "execution_count": null,
   "metadata": {},
   "outputs": [],
   "source": [
    "## Download Sonarqube scanner\n",
    "!wget https://sonarsource.bintray.com/Distribution/sonar-scanner-cli/sonar-scanner-cli-3.0.3.778-linux.zip\n",
    "!unzip sonar-scanner-cli-3.0.3.778-linux.zip"
   ]
  },
  {
   "cell_type": "code",
   "execution_count": null,
   "metadata": {},
   "outputs": [],
   "source": [
    "!./sonar-scanner-3.0.3.778-linux/bin/sonar-scanner -Dsonar.host.url=http://sonarqube:9000 -Dsonar.projectKey=Redpill:latest -Dsonar.sources=RedPill/src/php -Dsonar.language=php"
   ]
  },
  {
   "cell_type": "markdown",
   "metadata": {},
   "source": [
    "## Scan Clair"
   ]
  },
  {
   "cell_type": "markdown",
   "metadata": {},
   "source": [
    "TODO"
   ]
  },
  {
   "cell_type": "markdown",
   "metadata": {},
   "source": [
    "# Dynamic Analysis"
   ]
  },
  {
   "cell_type": "markdown",
   "metadata": {},
   "source": [
    "## Lancement de l'application"
   ]
  },
  {
   "cell_type": "code",
   "execution_count": null,
   "metadata": {},
   "outputs": [],
   "source": [
    "!pip install docker"
   ]
  },
  {
   "cell_type": "code",
   "execution_count": 4,
   "metadata": {},
   "outputs": [],
   "source": [
    "import docker\n",
    "import io\n",
    "import tarfile\n",
    "import os\n",
    "import tempfile\n",
    "\n",
    "cli = docker.DockerClient(base_url='unix://var/run/docker.sock')"
   ]
  },
  {
   "cell_type": "code",
   "execution_count": null,
   "metadata": {},
   "outputs": [],
   "source": [
    "cli.containers.list()"
   ]
  },
  {
   "cell_type": "code",
   "execution_count": null,
   "metadata": {},
   "outputs": [],
   "source": [
    "## Build app image and pull dependencies\n",
    "\n",
    "app_img = cli.images.build(path='RedPill/src/php', tag='hat/app')\n",
    "zap_img = cli.images.pull('owasp/zap2docker-weekly:latest')\n",
    "db_img = cli.images.pull('mariadb:latest')\n"
   ]
  },
  {
   "cell_type": "code",
   "execution_count": null,
   "metadata": {},
   "outputs": [],
   "source": [
    "cli.networks.create(\"app_net\", driver=\"bridge\") ## containers crée ne peut pas rejoindre le network. TODO workaround"
   ]
  },
  {
   "cell_type": "code",
   "execution_count": null,
   "metadata": {},
   "outputs": [],
   "source": [
    "cli.networks.list()"
   ]
  },
  {
   "cell_type": "code",
   "execution_count": null,
   "metadata": {},
   "outputs": [],
   "source": [
    "cli.volumes.create(name='db_data', driver='local')\n",
    "cli.volumes.create(name='db_init', driver='local')\n",
    "cli.volumes.create(name='app_data', driver='local')"
   ]
  },
  {
   "cell_type": "code",
   "execution_count": null,
   "metadata": {},
   "outputs": [],
   "source": [
    "## Database provisionning\n",
    "os.chdir('/home/jovyan/RedPill/src/sql')\n",
    "tarstream = io.BytesIO()\n",
    "tar = tarfile.TarFile(fileobj=tarstream, mode='w')\n",
    "tar.add('./src/sql/staging.sql', arcname='db.sql', recursive=False)\n",
    "tar.close()\n",
    "\n",
    "tmp=cli.containers.create(\n",
    "    image='alpine', \n",
    "    volumes={'db_init':{'bind': '/data/', 'mode' : 'rw'}})\n",
    "\n",
    "tarstream.seek(0)\n",
    "tmp.put_archive(\n",
    "    path='/data/',\n",
    "    data=tarstream\n",
    ")\n",
    "\n",
    "## Database run\n",
    "db_cont = cli.containers.run(\n",
    "    image=db_img,\n",
    "    volumes={'db_init':{'bind': '/docker-entrypoint-initdb.d/', 'mode' : 'rw'},\n",
    "             'db_data':{'bind': '/var/lib/mysql/', 'mode' : 'rw'}\n",
    "            },\n",
    "    detach=True,\n",
    "    name='app_db',\n",
    "    environment=['MYSQL_RANDOM_ROOT_PASSWORD=yes','MYSQL_USER=user',\n",
    "                  'MYSQL_PASSWORD=password','MYSQL_DATABASE=sqli']\n",
    "        )\n"
   ]
  },
  {
   "cell_type": "code",
   "execution_count": null,
   "metadata": {},
   "outputs": [],
   "source": [
    "## Webserver provisionning\n",
    "\n",
    "os.chdir('/home/jovyan/RedPill/src/php')\n",
    "tarstream = io.BytesIO()\n",
    "tar = tarfile.TarFile(fileobj=tarstream, mode='w')\n",
    "tar.add('.')\n",
    "tar.close()\n",
    "\n",
    "tmp=cli.containers.create(\n",
    "    image='alpine', \n",
    "    volumes={'app_data':{'bind': '/data/', 'mode' : 'rw'}})\n",
    "\n",
    "tarstream.seek(0)\n",
    "tmp.put_archive(\n",
    "    path='/data/',\n",
    "    data=tarstream\n",
    ")\n",
    "\n",
    "## webserver run\n",
    "app_cont = cli.containers.run(\n",
    "    image=app_img,\n",
    "    volumes={'app_data':{'bind': '/var/www/html', 'mode' : 'rw'}\n",
    "            },\n",
    "    detach=True,\n",
    "    name='app_web',\n",
    "    environment=['DB_ENV_MYSQL_USER=user','DB_ENV_MYSQL_PASSWORD=password','BUILD_STAGE=Python'],\n",
    "    ports={'80/tcp':80},\n",
    "    links=[('app_db','db')]\n",
    "        )"
   ]
  }
 ],
 "metadata": {
  "kernelspec": {
   "display_name": "Python 3",
   "language": "python",
   "name": "python3"
  },
  "language_info": {
   "codemirror_mode": {
    "name": "ipython",
    "version": 3
   },
   "file_extension": ".py",
   "mimetype": "text/x-python",
   "name": "python",
   "nbconvert_exporter": "python",
   "pygments_lexer": "ipython3",
   "version": "3.6.2"
  }
 },
 "nbformat": 4,
 "nbformat_minor": 2
}

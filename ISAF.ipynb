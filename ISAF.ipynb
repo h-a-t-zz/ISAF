{
 "cells": [
  {
   "cell_type": "markdown",
   "metadata": {
    "slideshow": {
     "slide_type": "slide"
    }
   },
   "source": [
    "# ISAF (إسعاف)  \n",
    "## Integrated Security Assessments for your dev Flow\n",
    "```\n",
    "    EeeiiiiiEEiiiii.....                                             \n",
    "       \\|/                                                           \n",
    "        n______     .....iiiiiEEiiiieeEE                             \n",
    "       :~;     :                  \\|/                                \n",
    "-----;``~'  +  ;------------ ______n --------------------------------\n",
    "     `-@-----@-=            :     :~:                                \n",
    "=========================== ;  +  '~``; =============================\n",
    "                            =-@-----@-'                              \n",
    "jgs------------------------------------------------------------------\n",
    "                                                                     \n",
    "                   DEVSECOPS IN A PYTHON NUTSHELL        \n",
    "```"
   ]
  },
  {
   "cell_type": "markdown",
   "metadata": {},
   "source": [
    "## Environment Build"
   ]
  },
  {
   "cell_type": "markdown",
   "metadata": {
    "slideshow": {
     "slide_type": "subslide"
    }
   },
   "source": [
    "### What App?\n",
    "A tiny vulnerable application written in PHP.\n",
    "[![Vulnerable App](screen_webapp.png)](https://github.com/h-a-t/RedPill/blob/master/src/php/index.php)    \n",
    "These 2 lines are vulnerable to SQL injections and to XSS attacks. \n",
    "```php\n",
    "    $user_id = $_GET['id'];\n",
    "    $sql = mysql_query(\"SELECT username, nom, prenom, email FROM users WHERE user_id = $user_id\") or die(mysql_error());\n",
    "```"
   ]
  },
  {
   "cell_type": "markdown",
   "metadata": {},
   "source": [
    "### Let's deploy it!"
   ]
  },
  {
   "cell_type": "code",
   "execution_count": null,
   "metadata": {},
   "outputs": [],
   "source": [
    "!git clone https://github.com/h-a-t/RedPill"
   ]
  },
  {
   "cell_type": "code",
   "execution_count": null,
   "metadata": {},
   "outputs": [],
   "source": [
    "!pip install docker"
   ]
  },
  {
   "cell_type": "code",
   "execution_count": 4,
   "metadata": {},
   "outputs": [],
   "source": [
    "import docker\n",
    "import io\n",
    "import tarfile\n",
    "import os\n",
    "\n",
    "cli = docker.from_env()\n",
    "cli.containers.list()"
   ]
  },
  {
   "cell_type": "code",
   "execution_count": null,
   "metadata": {},
   "outputs": [],
   "source": [
    "## Build app image and pull dependencies\n",
    "os.chdir('/home/jovyan/RedPill/')\n",
    "cli.images.build(path='./src/php', tag='hat/app')\n",
    "#zap_img = cli.images.pull('owasp/zap2docker-weekly:latest')\n",
    "db_img = cli.images.pull('mariadb:latest')\n",
    "alpine = cli.images.pull('alpine:latest')\n",
    "cli.images.list()"
   ]
  },
  {
   "cell_type": "code",
   "execution_count": null,
   "metadata": {},
   "outputs": [],
   "source": [
    "## Create a dedicated network\n",
    "cli.networks.create(\"app_net\", driver=\"overlay\")\n",
    "for x in cli.networks.list():\n",
    "    print(\"%s  %s\" % (x.id,x.name))"
   ]
  },
  {
   "cell_type": "code",
   "execution_count": null,
   "metadata": {},
   "outputs": [],
   "source": [
    "## Create Volumes\n",
    "cli.volumes.create(name='db_data', driver='local')\n",
    "cli.volumes.create(name='db_init', driver='local')\n",
    "cli.volumes.create(name='app_data', driver='local')"
   ]
  },
  {
   "cell_type": "code",
   "execution_count": null,
   "metadata": {},
   "outputs": [],
   "source": [
    "## Database provisionning\n",
    "os.chdir('/home/jovyan/RedPill/src/sql')\n",
    "tarstream = io.BytesIO()\n",
    "tar = tarfile.TarFile(fileobj=tarstream, mode='w')\n",
    "tar.add('staging.sql')\n",
    "tar.close()\n",
    "\n",
    "## https://gist.github.com/zbyte64/6800eae10ce082bb78f0b7a2cca5cbc2\n",
    "tmp=cli.containers.create(\n",
    "    image='alpine', \n",
    "    volumes={'db_init':{'bind': '/data/', 'mode' : 'rw'}})\n",
    "\n",
    "tarstream.seek(0)\n",
    "tmp.put_archive(\n",
    "    path='/data/',\n",
    "    data=tarstream\n",
    ")\n",
    "\n",
    "## Database run\n",
    "db_cont = cli.services.create(\n",
    "    image='mariadb:latest',\n",
    "    mounts=[\n",
    "        \"db_init:/docker-entrypoint-initdb.d/:rw\",\n",
    "        \"db_data:/var/lib/mysql/:rw\"\n",
    "    ],\n",
    "    networks= ['app_net'],\n",
    "    name='app_db',\n",
    "    env=['MYSQL_RANDOM_ROOT_PASSWORD=yes','MYSQL_USER=user',\n",
    "                  'MYSQL_PASSWORD=password','MYSQL_DATABASE=sqli']\n",
    "        )\n",
    "db_cont?"
   ]
  },
  {
   "cell_type": "code",
   "execution_count": null,
   "metadata": {},
   "outputs": [],
   "source": [
    "## Webserver provisionning\n",
    "\n",
    "os.chdir('/home/jovyan/RedPill/src/php')\n",
    "tarstream = io.BytesIO()\n",
    "tar = tarfile.TarFile(fileobj=tarstream, mode='w')\n",
    "tar.add('.')\n",
    "tar.close()\n",
    "\n",
    "tmp=cli.containers.create(\n",
    "    image='alpine', \n",
    "    volumes={'app_data':{'bind': '/data/', 'mode' : 'rw'}})\n",
    "\n",
    "tarstream.seek(0)\n",
    "tmp.put_archive(\n",
    "    path='/data/',\n",
    "    data=tarstream\n",
    ")\n",
    "## webserver run\n",
    "app_cont = cli.services.create(\n",
    "    image='hat/app',\n",
    "    mounts=[\n",
    "        \"app_data:/var/www/html:rw\",\n",
    "    ],\n",
    "    networks= ['app_net'],\n",
    "    name='app_web',\n",
    "    endpoint_spec={\n",
    "                'Mode': 'vip',\n",
    "                \"Ports\": [\n",
    "                    {\n",
    "                        \"Protocol\": \"tcp\",\n",
    "                        \"TargetPort\": 80,\n",
    "                        \"PublishedPort\": 80\n",
    "                    }]\n",
    "                    },\n",
    "    env=['DB_ENV_MYSQL_USER=user','DB_ENV_MYSQL_PASSWORD=password','BUILD_STAGE=Python'],\n",
    "        )\n",
    "app_cont?"
   ]
  },
  {
   "cell_type": "markdown",
   "metadata": {
    "slideshow": {
     "slide_type": "slide"
    }
   },
   "source": [
    "# Security Assessment in a Synchronous Execution Flow"
   ]
  },
  {
   "cell_type": "markdown",
   "metadata": {},
   "source": [
    "## Static Code Analysis\n"
   ]
  },
  {
   "cell_type": "markdown",
   "metadata": {},
   "source": [
    "### Push code to SonarQube for code analysis"
   ]
  },
  {
   "cell_type": "code",
   "execution_count": null,
   "metadata": {},
   "outputs": [],
   "source": [
    "## Download Sonarqube scanner\n",
    "!wget https://sonarsource.bintray.com/Distribution/sonar-scanner-cli/sonar-scanner-cli-3.0.3.778-linux.zip\n",
    "!unzip sonar-scanner-cli-3.0.3.778-linux.zip"
   ]
  },
  {
   "cell_type": "code",
   "execution_count": null,
   "metadata": {},
   "outputs": [],
   "source": [
    "!./sonar-scanner-3.0.3.778-linux/bin/sonar-scanner -Dsonar.host.url=http://sonarqube:9000 -Dsonar.projectKey=Redpill:latest -Dsonar.sources=RedPill/src/php -Dsonar.language=php"
   ]
  },
  {
   "cell_type": "markdown",
   "metadata": {},
   "source": [
    "### Push to Clair for a container layer scan"
   ]
  },
  {
   "cell_type": "markdown",
   "metadata": {
    "slideshow": {
     "slide_type": "subslide"
    }
   },
   "source": [
    "TODO : reg de Jess + Pop instance Clair"
   ]
  },
  {
   "cell_type": "markdown",
   "metadata": {},
   "source": [
    "## Dynamic Runtime Analysis"
   ]
  },
  {
   "cell_type": "markdown",
   "metadata": {},
   "source": [
    "### Using the Web-GUI of your favorite Pentesting tool from OWASP: ZAP\n",
    "- Let L33t do the testing by running a GUI instance of ZAP, just browse localhost:8666/?anonym=true&app=ZAP to start :) \n",
    "- Warning, image size: 1,52 Go  \n",
    "- Cf. https://github.com/zaproxy/zaproxy/wiki/WebSwing  "
   ]
  },
  {
   "cell_type": "code",
   "execution_count": null,
   "metadata": {},
   "outputs": [],
   "source": [
    "zap_img = cli.images.pull('owasp/zap2docker-stable:latest')\n",
    "scan_cont = cli.containers.run(\n",
    "    image=zap_img,\n",
    "    name='app_scan',\n",
    "    detach=True,\n",
    "    command=\"sh -c 'zap-webswing.sh'\",\n",
    "    ports={'8080/tcp':8666, '8090/tcp':8777},\n",
    "    links=[('app_web','app')]\n",
    "        )\n",
    "scan_cont?"
   ]
  },
  {
   "cell_type": "markdown",
   "metadata": {},
   "source": [
    "### Using the flexibility of your favorite cutting-edge technology: OpenFaas"
   ]
  },
  {
   "cell_type": "markdown",
   "metadata": {},
   "source": [
    "Dockerfile:  \n",
    "\n",
    "```\n",
    "FROM alexellis2/faas-alpinefunction:latest\n",
    "RUN apk update && apk add nmap\n",
    "ENV fprocess=\"xargs nmap\"\n",
    "CMD [\"fwatchdog\"]\n",
    "```\n",
    "\n",
    "nmap_stack:   \n",
    "\n",
    "```yaml\n",
    "provider:\n",
    "  name: faas\n",
    "  gateway: http://gateway:8080\n",
    "\n",
    "functions:\n",
    "  nmap:\n",
    "    lang: Dockerfile\n",
    "    handler: ./Dockerfile\n",
    "    image: hat/nmap\n",
    "```"
   ]
  },
  {
   "cell_type": "code",
   "execution_count": null,
   "metadata": {},
   "outputs": [],
   "source": [
    "import tarfile\n",
    "import time\n",
    "from io import BytesIO\n",
    "os.chdir('/home/jovyan/work')\n",
    "Dockerfile ='''\n",
    "FROM alexellis2/faas-alpinefunction:latest\n",
    "RUN apk update && apk add nmap\n",
    "ENV fprocess=\"xargs nmap\"\n",
    "CMD [\"fwatchdog\"]\n",
    "'''\n",
    "with open(\"Dockerfile\", \"w\") as stack:\n",
    "    stack.write(\"%s\" % Dockerfile)\n",
    "\n",
    "#write the Dockerfile to a tarred archive\n",
    "pw_tarstream = BytesIO()\n",
    "pw_tar = tarfile.TarFile(fileobj=pw_tarstream, mode='w')\n",
    "file_data = Dockerfile.encode('utf8')\n",
    "tarinfo = tarfile.TarInfo(name='Dockerfile')\n",
    "tarinfo.size = len(file_data)\n",
    "tarinfo.mtime = time.time()\n",
    "#tarinfo.mode = 0600\n",
    "pw_tar.addfile(tarinfo, BytesIO(file_data))\n",
    "pw_tar.close()\n",
    "\n",
    "pw_tarstream.seek(0)\n",
    "nmap = cli.images.build(\n",
    "    fileobj=pw_tarstream,\n",
    "    custom_context=True,\n",
    "    tag='hat/nmap'\n",
    ")\n",
    "nmap?"
   ]
  },
  {
   "cell_type": "code",
   "execution_count": null,
   "metadata": {},
   "outputs": [],
   "source": [
    "## nmap Stack\n",
    "os.chdir('/home/jovyan/work')\n",
    "func_stack='''\n",
    "provider:\n",
    "  name: faas\n",
    "  gateway: http://gateway:8080\n",
    "\n",
    "functions:\n",
    "  nmap:\n",
    "    lang: Dockerfile\n",
    "    handler: ./Dockerfile\n",
    "    image: hat/nmap\n",
    "'''\n",
    "with open(\"nmap_func.yml\", \"w\") as stack:\n",
    "    stack.write(\"%s\" % func_stack)"
   ]
  },
  {
   "cell_type": "code",
   "execution_count": null,
   "metadata": {},
   "outputs": [],
   "source": [
    "!faas-cli build -f nmap_func.yml"
   ]
  },
  {
   "cell_type": "code",
   "execution_count": null,
   "metadata": {},
   "outputs": [],
   "source": [
    "!faas-cli deploy -f nmap_func.yml"
   ]
  },
  {
   "cell_type": "code",
   "execution_count": null,
   "metadata": {},
   "outputs": [],
   "source": [
    "## Testing\n",
    "!curl -v http://gateway:8080/system/functions"
   ]
  },
  {
   "cell_type": "code",
   "execution_count": null,
   "metadata": {},
   "outputs": [],
   "source": [
    "## Executing nmap \\o/\n",
    "!curl -v --data \"-T4 172.17.0.3\" http://gateway:8080/function/nmap"
   ]
  },
  {
   "cell_type": "code",
   "execution_count": null,
   "metadata": {},
   "outputs": [],
   "source": []
  },
  {
   "cell_type": "code",
   "execution_count": null,
   "metadata": {},
   "outputs": [],
   "source": []
  },
  {
   "cell_type": "markdown",
   "metadata": {},
   "source": [
    "Async IO with docker\n",
    "-> faas in python\n",
    "https://pypi.python.org/pypi/aiodocker/0.8.2\n",
    "http://aiodocker.readthedocs.io/en/latest/\n",
    "https://curio.readthedocs.io/en/latest/tutorial.html"
   ]
  },
  {
   "cell_type": "code",
   "execution_count": null,
   "metadata": {},
   "outputs": [],
   "source": [
    "import asyncio\n",
    "from aiodocker.docker import Docker\n",
    "from aiodocker.exceptions import DockerError\n",
    "\n",
    "\n",
    "async def demo(docker):\n",
    "    try:\n",
    "        await docker.images.get('alpine:latest')\n",
    "    except DockerError as e:\n",
    "        if e.status == 404:\n",
    "            await docker.pull('alpine:latest')\n",
    "        else:\n",
    "            print('Error retrieving alpine:latest image.')\n",
    "            return\n",
    "\n",
    "    config = {\n",
    "        # \"Cmd\": [\"/bin/ash\", \"-c\", \"sleep 1; echo a; sleep 1; echo a; sleep 1; echo a; sleep 1; echo x\"],\n",
    "        \"Cmd\": [\"/bin/ash\"],\n",
    "        \"Image\": \"alpine:latest\",\n",
    "        \"AttachStdin\": True,\n",
    "        \"AttachStdout\": True,\n",
    "        \"AttachStderr\": True,\n",
    "        \"Tty\": False,\n",
    "        \"OpenStdin\": True,\n",
    "        \"StdinOnce\": True,\n",
    "    }\n",
    "    container = await docker.containers.create_or_replace(\n",
    "        config=config, name='aiodocker-example')\n",
    "    print(\"created and started container {}\".format(container._id[:12]))\n",
    "\n",
    "    try:\n",
    "        ws = await container.websocket(stdin=True, stdout=True, stderr=True, stream=True)\n",
    "        await container.start()\n",
    "\n",
    "        async def _send():\n",
    "            await asyncio.sleep(0.5)\n",
    "            await ws.send_bytes(b'echo \"hello world\"\\n')\n",
    "            print(\"sent a shell command\")\n",
    "\n",
    "        asyncio.ensure_future(_send())\n",
    "        resp = await ws.receive()\n",
    "        print(\"received: {}\".format(resp))\n",
    "        await ws.close()\n",
    "\n",
    "        output = await container.log(stdout=True)\n",
    "        print(\"log output: {}\".format(output))\n",
    "    finally:\n",
    "        print(\"removing container\")\n",
    "        await container.delete(force=True)\n",
    "\n",
    "\n",
    "if __name__ == '__main__':\n",
    "    loop = asyncio.get_event_loop()\n",
    "    docker = Docker()\n",
    "    try:\n",
    "        loop.run_until_complete(demo(docker))\n",
    "    finally:\n",
    "        loop.run_until_complete(docker.close())\n",
    "        loop.close()"
   ]
  },
  {
   "cell_type": "code",
   "execution_count": null,
   "metadata": {},
   "outputs": [],
   "source": [
    "import asyncio\n",
    "from aiodocker.docker import Docker\n",
    "\n",
    "\n",
    "async def demo(docker):\n",
    "    print('--------------------------------')\n",
    "    print('- Check Docker Version Information')\n",
    "    data_version = await docker.version()\n",
    "    for key, value in data_version.items():\n",
    "        print(key, ':', value)\n",
    "\n",
    "    print('--------------------------------')\n",
    "    print('- Check Docker Image List')\n",
    "    images = await docker.images.list()\n",
    "    for image in images:\n",
    "        for key, value in image.items():\n",
    "            if key == 'RepoTags':\n",
    "                print(key, ':', value)\n",
    "\n",
    "    print('--------------------------------')\n",
    "    print('- Check Docker Container List')\n",
    "    containers = await docker.containers.list()\n",
    "    for container in containers:\n",
    "        container_show = await container.show()\n",
    "        for key, value in container_show.items():\n",
    "            if key == 'Id':\n",
    "                print('Id', ':', value[:12])\n",
    "    print('--------------------------------')\n",
    "\n",
    "\n",
    "if __name__ == '__main__':\n",
    "    loop = asyncio.get_event_loop()\n",
    "    docker = Docker()\n",
    "    try:\n",
    "        loop.run_until_complete(demo(docker))\n",
    "    finally:\n",
    "        loop.run_until_complete(docker.close())\n",
    "        loop.close()"
   ]
  },
  {
   "cell_type": "code",
   "execution_count": null,
   "metadata": {},
   "outputs": [],
   "source": [
    "import asyncio\n",
    "from aiodocker.docker import Docker\n",
    "from aiodocker.exceptions import DockerError\n",
    "\n",
    "\n",
    "async def demo(docker):\n",
    "    try:\n",
    "        await docker.images.get('alpine:latest')\n",
    "    except DockerError as e:\n",
    "        if e.status == 404:\n",
    "            await docker.pull('alpine:latest')\n",
    "        else:\n",
    "            print('Error retrieving alpine:latest image.')\n",
    "            return\n",
    "\n",
    "    subscriber = docker.events.subscribe()\n",
    "\n",
    "    config = {\n",
    "        \"Cmd\": [\"tail\", \"-f\", \"/var/log/dmesg\"],\n",
    "        \"Image\":\"alpine:latest\",\n",
    "         \"AttachStdin\": False,\n",
    "         \"AttachStdout\": True,\n",
    "         \"AttachStderr\": True,\n",
    "         \"Tty\": False,\n",
    "         \"OpenStdin\": False,\n",
    "         \"StdinOnce\": False,\n",
    "    }\n",
    "    container = await docker.containers.create_or_replace(\n",
    "        config=config, name='testing')\n",
    "    await container.start()\n",
    "    print(\"=> created and started container {}\".format(container._id[:12]))\n",
    "\n",
    "    while True:\n",
    "        event = await subscriber.get()\n",
    "        if event is None:\n",
    "            break\n",
    "\n",
    "        for key, value in event.items():\n",
    "            print(key,':', value)\n",
    "\n",
    "        # Demonstrate simple event-driven container mgmt.\n",
    "        if event['Actor']['ID'] == container._id:\n",
    "            if event['Action'] == 'start':\n",
    "                await container.stop()\n",
    "                print(\"=> killed {}\".format(container._id[:12]))\n",
    "            elif event['Action'] == 'stop':\n",
    "                await container.delete(force=True)\n",
    "                print(\"=> deleted {}\".format(container._id[:12]))\n",
    "            elif event['Action'] == 'destroy':\n",
    "                print('=> done with this container!')\n",
    "                break\n",
    "\n",
    "if __name__ == '__main__':\n",
    "    loop = asyncio.get_event_loop()\n",
    "    docker = Docker()\n",
    "    try:\n",
    "        # do our stuffs.\n",
    "        loop.run_until_complete(demo(docker))\n",
    "    finally:\n",
    "        loop.run_until_complete(docker.close())\n",
    "        loop.close()"
   ]
  },
  {
   "cell_type": "code",
   "execution_count": null,
   "metadata": {},
   "outputs": [],
   "source": [
    "import asyncio\n",
    "import aiodocker\n",
    "\n",
    "async def list_things():\n",
    "    docker = aiodocker.Docker()\n",
    "    print('== Images ==')\n",
    "    for image in (await docker.images.list()):\n",
    "        tags = image['RepoTags'][0] if image['RepoTags'] else ''\n",
    "        print(image['Id'], tags)\n",
    "    print('== Containers ==')\n",
    "    for container in (await docker.containers.list()):\n",
    "        print(f\" {container._id}\")\n",
    "    await docker.close()\n",
    "\n",
    "async def run_container():\n",
    "    docker = aiodocker.Docker()\n",
    "    print('== Running a hello-world container ==')\n",
    "    container = await docker.containers.create_or_replace(\n",
    "        config={\n",
    "            'Cmd': ['/bin/ash', '-c', 'echo \"hello world\"'],\n",
    "            'Image': 'alpine:latest',\n",
    "        },\n",
    "        name='testing',\n",
    "    )\n",
    "    await container.start()\n",
    "    logs = await container.log(stdout=True)\n",
    "    print(''.join(logs))\n",
    "    await container.delete(force=True)\n",
    "    await docker.close()\n",
    "\n",
    "if __name__ == '__main__':\n",
    "    loop2 = asyncio.get_event_loop()\n",
    "    loop2.run_until_complete(list_things())\n",
    "    loop2.run_until_complete(run_container())\n",
    "    loop2.close()"
   ]
  }
 ],
 "metadata": {
  "kernelspec": {
   "display_name": "Python 3",
   "language": "python",
   "name": "python3"
  },
  "language_info": {
   "codemirror_mode": {
    "name": "ipython",
    "version": 3
   },
   "file_extension": ".py",
   "mimetype": "text/x-python",
   "name": "python",
   "nbconvert_exporter": "python",
   "pygments_lexer": "ipython3",
   "version": "3.6.2"
  }
 },
 "nbformat": 4,
 "nbformat_minor": 2
}
